{
 "cells": [
  {
   "cell_type": "code",
   "execution_count": 87,
   "id": "e8b98769-c283-4139-b0ef-40e003b1ea72",
   "metadata": {},
   "outputs": [],
   "source": [
    "import pandas as pd\n",
    "import numpy as np\n",
    "from time import perf_counter\n",
    "from sklearn import preprocessing\n",
    "from sklearn.model_selection import train_test_split\n",
    "import scipy.linalg as sp"
   ]
  },
  {
   "cell_type": "code",
   "execution_count": 88,
   "id": "a0b18778-be1b-42c1-8ddb-19cf23cc5aae",
   "metadata": {},
   "outputs": [],
   "source": [
    "df = pd.read_csv('./Concrete_Data.csv')\n",
    "col_names = ['c1', 'c2', 'c3', 'c4', 'c5', 'c6', 'c7', 'age', 'strength']\n",
    "df.columns = col_names"
   ]
  },
  {
   "cell_type": "code",
   "execution_count": 89,
   "id": "ea55add5-c16b-46ac-9dcf-bc91a49c9e18",
   "metadata": {},
   "outputs": [],
   "source": [
    "df_n, df_m = df.shape\n",
    "X = df.iloc[:, :-1]\n",
    "Y = df.iloc[:, -1].to_numpy().reshape(df_n, 1)\n",
    "X_n, X_m = X.shape\n",
    "X_train, X_test, Y_train, Y_test = train_test_split(X, Y, random_state=156)"
   ]
  },
  {
   "cell_type": "code",
   "execution_count": 90,
   "id": "9001074c-8715-49b1-a3db-a27192530690",
   "metadata": {},
   "outputs": [],
   "source": [
    "X_scaler = preprocessing.StandardScaler().fit(X_train)\n",
    "Y_scaler = preprocessing.StandardScaler().fit(Y_train)\n",
    "\n",
    "X_scaled = X_scaler.transform(X_train)\n",
    "Y_scaled = Y_scaler.transform(Y_train)"
   ]
  },
  {
   "cell_type": "code",
   "execution_count": 101,
   "id": "60ffd883-18a8-4c67-b6d2-3a361d45b615",
   "metadata": {},
   "outputs": [],
   "source": [
    "A = X_scaled.T @ X_scaled\n",
    "A_n = A.shape[0]\n",
    "b = X_scaled.T @ Y_scaled\n",
    "n= len(X)\n",
    "p = 8\n",
    "# Cholesky\n",
    "L = np.linalg.cholesky(A)\n",
    "c,lower= sp.cho_factor(A)\n",
    "B_CH = sp.cho_solve((c,lower),X_scaled.T@Y_scaled)"
   ]
  },
  {
   "cell_type": "code",
   "execution_count": 103,
   "id": "889aafe8-56f3-48d2-9236-17c006582426",
   "metadata": {},
   "outputs": [],
   "source": [
    "l = L.T@B_CH\n",
    "CH_var = (Y_scaled.T@Y_scaled - l.T@l)/(n-p)\n",
    "A_inverse = sp.cho_solve((c,lower),b)\n",
    "CH_B_MSE = ((CH_var)**(0.5) * (np.diag(A_inverse))**(0.5))/n"
   ]
  },
  {
   "cell_type": "code",
   "execution_count": 104,
   "id": "ea7cc43c-79dc-4748-ba59-2ab6139c7855",
   "metadata": {},
   "outputs": [],
   "source": [
    "B_CH = Y_scaler.inverse_transform(B_CH.reshape(-1,1)).reshape(-1)"
   ]
  },
  {
   "cell_type": "code",
   "execution_count": 105,
   "id": "f896e0eb-444b-4777-bea8-772c4f66d5be",
   "metadata": {},
   "outputs": [],
   "source": [
    "CH_B_MSE = Y_scaler.inverse_transform(CH_B_MSE.reshape(-1,1)).reshape(-1)"
   ]
  },
  {
   "cell_type": "code",
   "execution_count": 108,
   "id": "87b6b8c1-3165-4254-a975-566d510e3ca8",
   "metadata": {},
   "outputs": [
    {
     "data": {
      "text/plain": [
       "array([48.94174713, 45.19690322, 41.78410353, 33.12326503, 37.72785788,\n",
       "       37.35870521, 37.7320561 , 43.10455883])"
      ]
     },
     "execution_count": 108,
     "metadata": {},
     "output_type": "execute_result"
    }
   ],
   "source": [
    "B_CH"
   ]
  },
  {
   "cell_type": "code",
   "execution_count": 97,
   "id": "c4cade89-ac1d-414d-8618-59a3590e613d",
   "metadata": {},
   "outputs": [],
   "source": [
    "# QR\n",
    "Q,R = sp.qr(A)\n",
    "B_QR = sp.solve_triangular(R,Q.T@X_scaled.T@Y_scaled)"
   ]
  },
  {
   "cell_type": "code",
   "execution_count": 98,
   "id": "9926092e-45ac-4ad5-913a-79800bc5ebae",
   "metadata": {},
   "outputs": [],
   "source": [
    "QR_var = ((Y_scaled - X_scaled@B_QR).T@(Y_scaled - X_scaled@B_QR))/(n-p)\n",
    "A_inverse = sp.solve_triangular(R@R.T,b)\n",
    "QR_B_MSE = ((QR_var)**(0.5) * (np.diag(A_inverse))**(0.5))/n"
   ]
  },
  {
   "cell_type": "code",
   "execution_count": 99,
   "id": "3d49f92d-937a-4188-b5c0-8e209aaa9f50",
   "metadata": {},
   "outputs": [],
   "source": [
    "B_QR = Y_scaler.inverse_transform(B_QR.reshape(-1,1)).reshape(-1)"
   ]
  },
  {
   "cell_type": "code",
   "execution_count": 100,
   "id": "c9e9578e-5041-4a46-bfff-ee80cdd39c43",
   "metadata": {},
   "outputs": [],
   "source": [
    "QR_B_MSE = Y_scaler.inverse_transform(QR_B_MSE.reshape(-1,1)).reshape(-1)"
   ]
  },
  {
   "cell_type": "code",
   "execution_count": null,
   "id": "d6ef5cba-ca8a-46ab-b8ff-ed108f239326",
   "metadata": {},
   "outputs": [],
   "source": []
  }
 ],
 "metadata": {
  "kernelspec": {
   "display_name": "Python 3 (ipykernel)",
   "language": "python",
   "name": "python3"
  },
  "language_info": {
   "codemirror_mode": {
    "name": "ipython",
    "version": 3
   },
   "file_extension": ".py",
   "mimetype": "text/x-python",
   "name": "python",
   "nbconvert_exporter": "python",
   "pygments_lexer": "ipython3",
   "version": "3.9.12"
  }
 },
 "nbformat": 4,
 "nbformat_minor": 5
}
